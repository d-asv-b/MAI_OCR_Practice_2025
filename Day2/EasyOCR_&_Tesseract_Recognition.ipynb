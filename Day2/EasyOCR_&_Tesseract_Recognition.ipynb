{
  "nbformat": 4,
  "nbformat_minor": 0,
  "metadata": {
    "colab": {
      "provenance": []
    },
    "kernelspec": {
      "name": "python3",
      "display_name": "Python 3"
    },
    "language_info": {
      "name": "python"
    }
  },
  "cells": [
    {
      "cell_type": "code",
      "execution_count": null,
      "metadata": {
        "colab": {
          "base_uri": "https://localhost:8080/"
        },
        "id": "NIAsXz7HMBEN",
        "outputId": "f4747532-409b-42f5-a008-b9b0a066d133"
      },
      "outputs": [
        {
          "output_type": "stream",
          "name": "stdout",
          "text": [
            "Looking in indexes: https://download.pytorch.org/whl/cpu\n",
            "Requirement already satisfied: torch in /usr/local/lib/python3.11/dist-packages (2.6.0+cu124)\n",
            "Requirement already satisfied: torchvision in /usr/local/lib/python3.11/dist-packages (0.21.0+cu124)\n",
            "Requirement already satisfied: torchaudio in /usr/local/lib/python3.11/dist-packages (2.6.0+cu124)\n",
            "Requirement already satisfied: easyocr in /usr/local/lib/python3.11/dist-packages (1.7.2)\n",
            "Requirement already satisfied: opencv-python in /usr/local/lib/python3.11/dist-packages (4.11.0.86)\n",
            "Requirement already satisfied: filelock in /usr/local/lib/python3.11/dist-packages (from torch) (3.18.0)\n",
            "Requirement already satisfied: typing-extensions>=4.10.0 in /usr/local/lib/python3.11/dist-packages (from torch) (4.14.0)\n",
            "Requirement already satisfied: networkx in /usr/local/lib/python3.11/dist-packages (from torch) (3.5)\n",
            "Requirement already satisfied: jinja2 in /usr/local/lib/python3.11/dist-packages (from torch) (3.1.6)\n",
            "Requirement already satisfied: fsspec in /usr/local/lib/python3.11/dist-packages (from torch) (2025.3.2)\n",
            "Requirement already satisfied: nvidia-cuda-nvrtc-cu12==12.4.127 in /usr/local/lib/python3.11/dist-packages (from torch) (12.4.127)\n",
            "Requirement already satisfied: nvidia-cuda-runtime-cu12==12.4.127 in /usr/local/lib/python3.11/dist-packages (from torch) (12.4.127)\n",
            "Requirement already satisfied: nvidia-cuda-cupti-cu12==12.4.127 in /usr/local/lib/python3.11/dist-packages (from torch) (12.4.127)\n",
            "Requirement already satisfied: nvidia-cudnn-cu12==9.1.0.70 in /usr/local/lib/python3.11/dist-packages (from torch) (9.1.0.70)\n",
            "Requirement already satisfied: nvidia-cublas-cu12==12.4.5.8 in /usr/local/lib/python3.11/dist-packages (from torch) (12.4.5.8)\n",
            "Requirement already satisfied: nvidia-cufft-cu12==11.2.1.3 in /usr/local/lib/python3.11/dist-packages (from torch) (11.2.1.3)\n",
            "Requirement already satisfied: nvidia-curand-cu12==10.3.5.147 in /usr/local/lib/python3.11/dist-packages (from torch) (10.3.5.147)\n",
            "Requirement already satisfied: nvidia-cusolver-cu12==11.6.1.9 in /usr/local/lib/python3.11/dist-packages (from torch) (11.6.1.9)\n",
            "Requirement already satisfied: nvidia-cusparse-cu12==12.3.1.170 in /usr/local/lib/python3.11/dist-packages (from torch) (12.3.1.170)\n",
            "Requirement already satisfied: nvidia-cusparselt-cu12==0.6.2 in /usr/local/lib/python3.11/dist-packages (from torch) (0.6.2)\n",
            "Requirement already satisfied: nvidia-nccl-cu12==2.21.5 in /usr/local/lib/python3.11/dist-packages (from torch) (2.21.5)\n",
            "Requirement already satisfied: nvidia-nvtx-cu12==12.4.127 in /usr/local/lib/python3.11/dist-packages (from torch) (12.4.127)\n",
            "Requirement already satisfied: nvidia-nvjitlink-cu12==12.4.127 in /usr/local/lib/python3.11/dist-packages (from torch) (12.4.127)\n",
            "Requirement already satisfied: triton==3.2.0 in /usr/local/lib/python3.11/dist-packages (from torch) (3.2.0)\n",
            "Requirement already satisfied: sympy==1.13.1 in /usr/local/lib/python3.11/dist-packages (from torch) (1.13.1)\n",
            "Requirement already satisfied: mpmath<1.4,>=1.1.0 in /usr/local/lib/python3.11/dist-packages (from sympy==1.13.1->torch) (1.3.0)\n",
            "Requirement already satisfied: numpy in /usr/local/lib/python3.11/dist-packages (from torchvision) (2.0.2)\n",
            "Requirement already satisfied: pillow!=8.3.*,>=5.3.0 in /usr/local/lib/python3.11/dist-packages (from torchvision) (11.2.1)\n",
            "Requirement already satisfied: opencv-python-headless in /usr/local/lib/python3.11/dist-packages (from easyocr) (4.11.0.86)\n",
            "Requirement already satisfied: scipy in /usr/local/lib/python3.11/dist-packages (from easyocr) (1.15.3)\n",
            "Requirement already satisfied: scikit-image in /usr/local/lib/python3.11/dist-packages (from easyocr) (0.25.2)\n",
            "Requirement already satisfied: python-bidi in /usr/local/lib/python3.11/dist-packages (from easyocr) (0.6.6)\n",
            "Requirement already satisfied: PyYAML in /usr/local/lib/python3.11/dist-packages (from easyocr) (6.0.2)\n",
            "Requirement already satisfied: Shapely in /usr/local/lib/python3.11/dist-packages (from easyocr) (2.1.1)\n",
            "Requirement already satisfied: pyclipper in /usr/local/lib/python3.11/dist-packages (from easyocr) (1.3.0.post6)\n",
            "Requirement already satisfied: ninja in /usr/local/lib/python3.11/dist-packages (from easyocr) (1.11.1.4)\n",
            "Requirement already satisfied: MarkupSafe>=2.0 in /usr/local/lib/python3.11/dist-packages (from jinja2->torch) (3.0.2)\n",
            "Requirement already satisfied: imageio!=2.35.0,>=2.33 in /usr/local/lib/python3.11/dist-packages (from scikit-image->easyocr) (2.37.0)\n",
            "Requirement already satisfied: tifffile>=2022.8.12 in /usr/local/lib/python3.11/dist-packages (from scikit-image->easyocr) (2025.6.11)\n",
            "Requirement already satisfied: packaging>=21 in /usr/local/lib/python3.11/dist-packages (from scikit-image->easyocr) (24.2)\n",
            "Requirement already satisfied: lazy-loader>=0.4 in /usr/local/lib/python3.11/dist-packages (from scikit-image->easyocr) (0.4)\n"
          ]
        }
      ],
      "source": [
        "!pip3 install torch torchvision torchaudio easyocr opencv-python --index-url https://download.pytorch.org/whl/cpu"
      ]
    },
    {
      "cell_type": "code",
      "source": [
        "import easyocr\n",
        "import cv2"
      ],
      "metadata": {
        "id": "pHboXaCwNGQV"
      },
      "execution_count": null,
      "outputs": []
    },
    {
      "cell_type": "code",
      "source": [
        "image_path = \"./imgs/-404731715_04.png\"\n",
        "\n",
        "img = cv2.imread(image_path)\n",
        "\n",
        "reader = easyocr.Reader([\"ru\"])\n",
        "result = reader.readtext(img)"
      ],
      "metadata": {
        "colab": {
          "base_uri": "https://localhost:8080/"
        },
        "id": "2iaqH89XNJG_",
        "outputId": "6708234d-a5b9-4ccc-d3ac-01b4e05c43d9"
      },
      "execution_count": null,
      "outputs": [
        {
          "output_type": "stream",
          "name": "stderr",
          "text": [
            "WARNING:easyocr.easyocr:Neither CUDA nor MPS are available - defaulting to CPU. Note: This module is much faster with a GPU.\n"
          ]
        }
      ]
    },
    {
      "cell_type": "code",
      "source": [
        "for row in result:\n",
        "  print(row[-2])"
      ],
      "metadata": {
        "colab": {
          "base_uri": "https://localhost:8080/"
        },
        "id": "QietzOvkNd4X",
        "outputId": "52219ad8-8bc1-4fc1-a617-9bf390d98563"
      },
      "execution_count": null,
      "outputs": [
        {
          "output_type": "stream",
          "name": "stdout",
          "text": [
            "~1шъъяшш;\n",
            "Цанныи Оанк использовать тОько _оСЛс залоинсния ~0бих листоь осноьныо\n",
            "оопцщ  чшът_.\n",
            "#о ^ \n",
            "?ж8\n",
            "ущ\n",
            "ЭАълс\n",
            "уие {Чсли% хя\n",
            "4{м м@&э  &\n",
            "4(\n",
            "[м&%\n",
            "~\"9 &%<\n",
            "ъ/\n",
            "~@ &\n",
            "~д {\n"
          ]
        }
      ]
    },
    {
      "cell_type": "code",
      "source": [],
      "metadata": {
        "id": "eSfnZZl4QQ72"
      },
      "execution_count": null,
      "outputs": []
    },
    {
      "cell_type": "code",
      "source": [
        "!pip install pytesseract"
      ],
      "metadata": {
        "colab": {
          "base_uri": "https://localhost:8080/"
        },
        "id": "94fCEKWcQRDL",
        "outputId": "8534bb15-c7f2-4e5b-e9e5-18ce2c94376d"
      },
      "execution_count": null,
      "outputs": [
        {
          "output_type": "stream",
          "name": "stdout",
          "text": [
            "Collecting pytesseract\n",
            "  Downloading pytesseract-0.3.13-py3-none-any.whl.metadata (11 kB)\n",
            "Requirement already satisfied: packaging>=21.3 in /usr/local/lib/python3.11/dist-packages (from pytesseract) (24.2)\n",
            "Requirement already satisfied: Pillow>=8.0.0 in /usr/local/lib/python3.11/dist-packages (from pytesseract) (11.2.1)\n",
            "Downloading pytesseract-0.3.13-py3-none-any.whl (14 kB)\n",
            "Installing collected packages: pytesseract\n",
            "Successfully installed pytesseract-0.3.13\n"
          ]
        }
      ]
    },
    {
      "cell_type": "code",
      "source": [
        "import pytesseract\n",
        "from PIL import Image"
      ],
      "metadata": {
        "id": "DGnytGsjQs1v"
      },
      "execution_count": null,
      "outputs": []
    },
    {
      "cell_type": "code",
      "source": [
        "!apt-get install tesseract-ocr-rus"
      ],
      "metadata": {
        "colab": {
          "base_uri": "https://localhost:8080/"
        },
        "id": "j97ru8spSqzY",
        "outputId": "65ae5a05-e558-4c72-be13-a47fe6c3a11e"
      },
      "execution_count": null,
      "outputs": [
        {
          "output_type": "stream",
          "name": "stdout",
          "text": [
            "Reading package lists... Done\n",
            "Building dependency tree... Done\n",
            "Reading state information... Done\n",
            "The following NEW packages will be installed:\n",
            "  tesseract-ocr-rus\n",
            "0 upgraded, 1 newly installed, 0 to remove and 35 not upgraded.\n",
            "Need to get 1,271 kB of archives.\n",
            "After this operation, 3,877 kB of additional disk space will be used.\n",
            "Get:1 http://archive.ubuntu.com/ubuntu jammy/universe amd64 tesseract-ocr-rus all 1:4.00~git30-7274cfa-1.1 [1,271 kB]\n",
            "Fetched 1,271 kB in 1s (1,469 kB/s)\n",
            "Selecting previously unselected package tesseract-ocr-rus.\n",
            "(Reading database ... 126308 files and directories currently installed.)\n",
            "Preparing to unpack .../tesseract-ocr-rus_1%3a4.00~git30-7274cfa-1.1_all.deb ...\n",
            "Unpacking tesseract-ocr-rus (1:4.00~git30-7274cfa-1.1) ...\n",
            "Setting up tesseract-ocr-rus (1:4.00~git30-7274cfa-1.1) ...\n"
          ]
        }
      ]
    },
    {
      "cell_type": "code",
      "source": [
        "print(pytesseract.image_to_boxes(Image.open(image_path), lang=\"rus\"))"
      ],
      "metadata": {
        "colab": {
          "base_uri": "https://localhost:8080/"
        },
        "id": "bVszt12xQ8JM",
        "outputId": "81246421-91f6-44e5-b993-2345378031c4"
      },
      "execution_count": null,
      "outputs": [
        {
          "output_type": "stream",
          "name": "stdout",
          "text": [
            "ы 28 2567 316 2590 0\n",
            "ы 269 2567 292 2590 0\n",
            "ы 280 2567 303 2590 0\n",
            "| 314 2563 328 2590 0\n",
            "| 321 2563 335 2590 0\n",
            "а 348 2568 390 2590 0\n",
            "н 391 2574 409 2590 0\n",
            "н 412 2574 431 2590 0\n",
            "ы 433 2574 481 2590 0\n",
            "И 456 2563 474 2590 0\n",
            "Ф 491 2573 517 2590 0\n",
            "а 516 2574 544 2590 0\n",
            "н 545 2574 564 2590 0\n",
            "к 566 2574 585 2590 0\n",
            "и 594 2574 614 2590 0\n",
            "с 615 2574 630 2590 0\n",
            "н 631 2574 650 2590 0\n",
            "о 652 2574 670 2590 0\n",
            "л 671 2574 688 2590 0\n",
            "р 690 2574 707 2590 0\n",
            "З 708 2574 717 2590 0\n",
            "з 708 2575 723 2590 0\n",
            "о 725 2574 743 2590 0\n",
            "в 744 2575 761 2590 0\n",
            "а 764 2574 780 2590 0\n",
            "т 780 2575 793 2590 0\n",
            "ь 793 2574 814 2590 0\n",
            "т 823 2574 839 2590 0\n",
            "о 840 2574 858 2590 0\n",
            "л 858 2574 876 2590 0\n",
            "ь 877 2575 894 2590 0\n",
            "к 896 2575 914 2590 0\n",
            "о 915 2575 933 2590 0\n",
            "н 942 2575 962 2590 0\n",
            "о 963 2574 981 2590 0\n",
            "б 983 2574 997 2590 0\n",
            "л 998 2575 1016 2590 0\n",
            "е 1017 2575 1033 2590 0\n",
            "з 1041 2574 1056 2590 0\n",
            "а 1058 2575 1075 2590 0\n",
            "п 1076 2576 1095 2590 0\n",
            "о 1097 2575 1115 2590 0\n",
            "л 1115 2575 1133 2590 0\n",
            "н 1135 2575 1154 2590 0\n",
            "е 1156 2575 1171 2590 0\n",
            "н 1173 2576 1192 2590 0\n",
            "и 1193 2575 1213 2590 0\n",
            "я 1214 2575 1233 2590 0\n",
            "э 1243 2576 1261 2590 0\n",
            "о 1263 2576 1280 2590 0\n",
            "х 1286 2576 1291 2590 0\n",
            "ч 1288 2576 1293 2590 0\n",
            "и 1283 2576 1322 2590 0\n",
            "А 1323 2576 1341 2590 0\n",
            "Л 1349 2576 1366 2590 0\n",
            "Л 1368 2576 1388 2590 0\n",
            "Ъ 1390 2576 1404 2590 0\n",
            "Р 1409 2577 1419 2590 0\n",
            "О 1423 2577 1459 2590 0\n",
            "К 1468 2577 1480 2590 0\n",
            "У 1468 2577 1487 2590 0\n",
            "Р 1489 2577 1524 2590 0\n",
            "К 1525 2577 1544 2590 0\n",
            "А 1545 2577 1615 2590 0\n",
            "? 1620 2578 1638 2590 0\n",
            "А 1647 2578 1760 2590 0\n",
            "Г 1768 2578 1779 2590 0\n",
            "О 1768 2578 1801 2590 0\n",
            "С 1805 2579 1855 2590 0\n",
            "Т 1859 2579 1896 2590 0\n",
            "И 1906 2579 1964 2590 0\n",
            "~ 19 0 2310 2572 0\n",
            "~ 382 1530 944 1549 0\n",
            "\n"
          ]
        }
      ]
    }
  ]
}